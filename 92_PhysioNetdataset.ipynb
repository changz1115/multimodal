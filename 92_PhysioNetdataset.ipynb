{
 "cells": [
  {
   "cell_type": "markdown",
   "metadata": {},
   "source": [
    "# Download ECG dataset from PhysioNet\n",
    "\n",
    "https://www.physionet.org/\n",
    "\n",
    "PhysioNet 是一个开放获取的医学数据资源库，旨在促进医学研究和生物医学工程领域的发展。它提供了大量的生理信号、临床数据和相关工具，以支持医学图像处理、信号处理、机器学习等研究。"
   ]
  },
  {
   "cell_type": "markdown",
   "metadata": {},
   "source": [
    "1. MIT-BIH Arrhythmia Database:\n",
    "描述：这个数据集包含48个半小时长的双导联心电信号记录，主要用于心律失常检测。\n",
    "来源：由麻省理工学院和贝丝以色列女执事医疗中心提供。\n",
    "\n",
    "2. PhysioNet/Computing in Cardiology Challenge Databases:\n",
    "描述：这些数据集每年发布一次，用于PhysioNet/CinC挑战赛，包含不同类型的心电信号数据，用于各种研究目的。\n",
    "来源：PhysioNet 提供。\n",
    "\n",
    "3. PTB Diagnostic ECG Database:\n",
    "描述：这个数据集包含来自290名患者的549个记录，涵盖多种心脏病。\n",
    "来源：由Physikalisch-Technische Bundesanstalt (PTB) 提供。\n",
    "\n",
    "4. MIMIC Database:\n",
    "描述：包含重症监护病房（ICU）患者的各种生理信号和病历数据，其中包括ECG数据。\n",
    "来源：由MIT的Lab for Computational Physiology和Beth Israel Deaconess Medical Center提供。"
   ]
  }
 ],
 "metadata": {
  "language_info": {
   "name": "python"
  }
 },
 "nbformat": 4,
 "nbformat_minor": 2
}
